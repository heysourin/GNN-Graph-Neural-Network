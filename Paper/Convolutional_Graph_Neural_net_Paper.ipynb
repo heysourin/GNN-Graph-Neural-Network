{
  "nbformat": 4,
  "nbformat_minor": 0,
  "metadata": {
    "colab": {
      "provenance": [],
      "authorship_tag": "ABX9TyMkZ4ZgPUw6cefmiVpTz87t",
      "include_colab_link": true
    },
    "kernelspec": {
      "name": "python3",
      "display_name": "Python 3"
    },
    "language_info": {
      "name": "python"
    }
  },
  "cells": [
    {
      "cell_type": "markdown",
      "metadata": {
        "id": "view-in-github",
        "colab_type": "text"
      },
      "source": [
        "<a href=\"https://colab.research.google.com/github/heysourin/GNN-Graph-Neural-Network/blob/main/Paper/Convolutional_Graph_Neural_net_Paper.ipynb\" target=\"_parent\"><img src=\"https://colab.research.google.com/assets/colab-badge.svg\" alt=\"Open In Colab\"/></a>"
      ]
    },
    {
      "cell_type": "code",
      "execution_count": 6,
      "metadata": {
        "collapsed": true,
        "id": "8oqKoU6hxLm3"
      },
      "outputs": [],
      "source": [
        "!pip install -q torch_geometric # for cora dataset"
      ]
    },
    {
      "cell_type": "code",
      "source": [
        "import numpy as np\n",
        "import random\n",
        "import os\n",
        "import math\n",
        "import torch\n",
        "import torch.nn as nn\n",
        "import torch.optim as optim\n",
        "import matplotlib.pyplot as plt\n",
        "from torch_geometric.datasets.karate import KarateClub\n",
        "from torch_geometric.datasets import Planetoid #cora dataset\n",
        "from torch_geometric.utils import to_dense_adj\n",
        "import torch.nn.functional as F\n",
        "\n",
        "import networkx as nx\n",
        "from torch_geometric.utils import to_networkx\n",
        "%matplotlib inline"
      ],
      "metadata": {
        "id": "SUAUz-X2xXtb"
      },
      "execution_count": 3,
      "outputs": []
    },
    {
      "cell_type": "code",
      "source": [
        "adj = np.array([[0,1,0,1,0,1], [1,0,1,1,1,0], [0,1,0,1,0,0], [1,1,1,0,0,1], [0,1,0,0,0,1], [1,0,0,1,1,0]])\n",
        "G = nx.from_numpy_array(adj)\n",
        "num_nodes = G.number_of_nodes()\n",
        "num_edges = G.number_of_edges()\n",
        "print(f\"Number of nodes in the graph {num_nodes}\")\n",
        "print(f\"Number of edges in the graph {num_edges}\")\n",
        "print()\n",
        "\n",
        "print(f\"Adjacency Matrix shape {adj.shape}\")\n",
        "print(adj)\n",
        "print()\n",
        "\n",
        "# draw the graph using networkx\n",
        "pos = nx.circular_layout(G)\n",
        "plt.figure(figsize=(3, 3))\n",
        "nx.draw(G, pos, with_labels=True, node_size=300, font_size=15, font_color='black')\n",
        "plt.title(\"Normal Graph\")\n",
        "plt.show()"
      ],
      "metadata": {
        "colab": {
          "base_uri": "https://localhost:8080/",
          "height": 550
        },
        "id": "PV0NQZ2LxXlk",
        "outputId": "de531888-fc70-46a9-f9e0-d10cb7843019"
      },
      "execution_count": 13,
      "outputs": [
        {
          "output_type": "stream",
          "name": "stdout",
          "text": [
            "Number of nodes in the graph 6\n",
            "Number of edges in the graph 9\n",
            "\n",
            "Adjacency Matrix shape (6, 6)\n",
            "[[0 1 0 1 0 1]\n",
            " [1 0 1 1 1 0]\n",
            " [0 1 0 1 0 0]\n",
            " [1 1 1 0 0 1]\n",
            " [0 1 0 0 0 1]\n",
            " [1 0 0 1 1 0]]\n",
            "\n"
          ]
        },
        {
          "output_type": "display_data",
          "data": {
            "text/plain": [
              "<Figure size 300x300 with 1 Axes>"
            ],
            "image/png": "[encoded data removed]"
          },
          "metadata": {}
        }
      ]
    },
    {
      "cell_type": "code",
      "source": [
        "adj"
      ],
      "metadata": {
        "colab": {
          "base_uri": "https://localhost:8080/"
        },
        "id": "AB8jZgUl6GEJ",
        "outputId": "0e023214-5189-43cb-94ae-0989a2c323b6"
      },
      "execution_count": 11,
      "outputs": [
        {
          "output_type": "execute_result",
          "data": {
            "text/plain": [
              "array([[0, 1, 0, 1, 0, 1],\n",
              "       [1, 0, 1, 1, 1, 0],\n",
              "       [0, 1, 0, 1, 0, 0],\n",
              "       [1, 1, 1, 0, 0, 1],\n",
              "       [0, 1, 0, 0, 0, 1],\n",
              "       [1, 0, 0, 1, 1, 0]])"
            ]
          },
          "metadata": {},
          "execution_count": 11
        }
      ]
    },
    {
      "cell_type": "code",
      "source": [
        "num_nodes"
      ],
      "metadata": {
        "colab": {
          "base_uri": "https://localhost:8080/"
        },
        "id": "kVqXfK3g51yf",
        "outputId": "cc30abb6-cb25-4d32-8479-91be360bc345"
      },
      "execution_count": 10,
      "outputs": [
        {
          "output_type": "execute_result",
          "data": {
            "text/plain": [
              "6"
            ]
          },
          "metadata": {},
          "execution_count": 10
        }
      ]
    },
    {
      "cell_type": "code",
      "source": [
        "# create random features for each node having 3 dimensions\n",
        "x = np.round(np.random.randn(num_nodes, 3), 2)\n",
        "print(f\"Feature Matrix shape {x.shape}\")\n",
        "print(x)"
      ],
      "metadata": {
        "colab": {
          "base_uri": "https://localhost:8080/"
        },
        "id": "VPf1zGxa6Tuf",
        "outputId": "d7baaa4f-6412-4155-9592-b1ee7b99c285"
      },
      "execution_count": 14,
      "outputs": [
        {
          "output_type": "stream",
          "name": "stdout",
          "text": [
            "Feature Matrix shape (6, 3)\n",
            "[[-1.5  -0.75  0.78]\n",
            " [-1.24  0.23  0.3 ]\n",
            " [ 0.16  0.73  1.09]\n",
            " [ 1.52 -1.18 -1.64]\n",
            " [ 0.44  0.73 -1.15]\n",
            " [ 1.32  0.84 -0.84]]\n"
          ]
        }
      ]
    },
    {
      "cell_type": "code",
      "source": [],
      "metadata": {
        "id": "ucv7a2W-BOWp"
      },
      "execution_count": null,
      "outputs": []
    }
  ]
}