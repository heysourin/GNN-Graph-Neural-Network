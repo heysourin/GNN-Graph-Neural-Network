{
  "nbformat": 4,
  "nbformat_minor": 0,
  "metadata": {
    "colab": {
      "provenance": [],
      "authorship_tag": "ABX9TyMXig4vzWEu3DNycTk87H/M",
      "include_colab_link": true
    },
    "kernelspec": {
      "name": "python3",
      "display_name": "Python 3"
    },
    "language_info": {
      "name": "python"
    }
  },
  "cells": [
    {
      "cell_type": "markdown",
      "metadata": {
        "id": "view-in-github",
        "colab_type": "text"
      },
      "source": [
        "<a href=\"https://colab.research.google.com/github/heysourin/GNN-Graph-Neural-Network/blob/main/Paper/Convolutional_Graph_Neural_net_Paper.ipynb\" target=\"_parent\"><img src=\"https://colab.research.google.com/assets/colab-badge.svg\" alt=\"Open In Colab\"/></a>"
      ]
    },
    {
      "cell_type": "code",
      "execution_count": 1,
      "metadata": {
        "collapsed": true,
        "id": "8oqKoU6hxLm3",
        "colab": {
          "base_uri": "https://localhost:8080/"
        },
        "outputId": "c43f009a-3c48-436e-e43d-bee5e3dcbb72"
      },
      "outputs": [
        {
          "output_type": "stream",
          "name": "stdout",
          "text": [
            "\u001b[2K     \u001b[90m━━━━━━━━━━━━━━━━━━━━━━━━━━━━━━━━━━━━━━━━\u001b[0m \u001b[32m64.2/64.2 kB\u001b[0m \u001b[31m1.8 MB/s\u001b[0m eta \u001b[36m0:00:00\u001b[0m\n",
            "\u001b[2K   \u001b[90m━━━━━━━━━━━━━━━━━━━━━━━━━━━━━━━━━━━━━━━━\u001b[0m \u001b[32m1.1/1.1 MB\u001b[0m \u001b[31m7.6 MB/s\u001b[0m eta \u001b[36m0:00:00\u001b[0m\n",
            "\u001b[?25h"
          ]
        }
      ],
      "source": [
        "!pip install -q torch_geometric # for cora dataset"
      ]
    },
    {
      "cell_type": "code",
      "source": [
        "import numpy as np\n",
        "import random\n",
        "import os\n",
        "import math\n",
        "import torch\n",
        "import torch.nn as nn\n",
        "import torch.optim as optim\n",
        "import matplotlib.pyplot as plt\n",
        "from torch_geometric.datasets.karate import KarateClub\n",
        "from torch_geometric.datasets import Planetoid #cora dataset\n",
        "from torch_geometric.utils import to_dense_adj\n",
        "import torch.nn.functional as F\n",
        "\n",
        "import networkx as nx\n",
        "from torch_geometric.utils import to_networkx\n",
        "%matplotlib inline"
      ],
      "metadata": {
        "id": "SUAUz-X2xXtb"
      },
      "execution_count": 2,
      "outputs": []
    },
    {
      "cell_type": "code",
      "source": [
        "# adj = np.array([[0,1,0,1,0,1,1], [1,0,1,1,1,0,0], [0,1,0,1,0,1,0], [0,1,1,1,0,0,1], [0,1,1,0,0,0,1], [1,0,0,1,1,0,0], [1,0,0,1,1,0,1]]) # Testing Layer 1 o/p with 7*7 inputs\n",
        "\n",
        "adj = np.array([[0,1,0,1,0,1], [1,0,1,1,1,0], [0,1,0,1,0,0], [1,1,1,0,0,1], [0,1,0,0,0,1], [1,0,0,1,1,0]])\n",
        "\n",
        "G = nx.from_numpy_array(adj)\n",
        "num_nodes = G.number_of_nodes()\n",
        "num_edges = G.number_of_edges()\n",
        "print(f\"Number of nodes in the graph {num_nodes}\")\n",
        "print(f\"Number of edges in the graph {num_edges}\")\n",
        "print()\n",
        "\n",
        "print(f\"Adjacency Matrix shape {adj.shape}\")\n",
        "print(adj)\n",
        "print()\n",
        "\n",
        "# draw the graph using networkx\n",
        "pos = nx.circular_layout(G)\n",
        "plt.figure(figsize=(3, 3))\n",
        "nx.draw(G, pos, with_labels=True, node_size=300, font_size=15, font_color='black')\n",
        "plt.title(\"Normal Graph\")\n",
        "plt.show()"
      ],
      "metadata": {
        "colab": {
          "base_uri": "https://localhost:8080/",
          "height": 550
        },
        "id": "PV0NQZ2LxXlk",
        "outputId": "6d8a0eab-9b02-44e5-8886-5e79ed3b7b23"
      },
      "execution_count": 3,
      "outputs": [
        {
          "output_type": "stream",
          "name": "stdout",
          "text": [
            "Number of nodes in the graph 6\n",
            "Number of edges in the graph 9\n",
            "\n",
            "Adjacency Matrix shape (6, 6)\n",
            "[[0 1 0 1 0 1]\n",
            " [1 0 1 1 1 0]\n",
            " [0 1 0 1 0 0]\n",
            " [1 1 1 0 0 1]\n",
            " [0 1 0 0 0 1]\n",
            " [1 0 0 1 1 0]]\n",
            "\n"
          ]
        },
        {
          "output_type": "display_data",
          "data": {
            "text/plain": [
              "<Figure size 300x300 with 1 Axes>"
            ],
            "image/png": "[encoded data removed]"
          },
          "metadata": {}
        }
      ]
    },
    {
      "cell_type": "code",
      "source": [
        "len(G)"
      ],
      "metadata": {
        "colab": {
          "base_uri": "https://localhost:8080/"
        },
        "id": "6qW3ZW6rxzHQ",
        "outputId": "1434843c-8e06-44c2-a4a8-692883d507cf"
      },
      "execution_count": 4,
      "outputs": [
        {
          "output_type": "execute_result",
          "data": {
            "text/plain": [
              "6"
            ]
          },
          "metadata": {},
          "execution_count": 4
        }
      ]
    },
    {
      "cell_type": "code",
      "source": [
        "adj"
      ],
      "metadata": {
        "colab": {
          "base_uri": "https://localhost:8080/"
        },
        "id": "AB8jZgUl6GEJ",
        "outputId": "88525aa9-cdce-4347-faeb-bce325396e4e"
      },
      "execution_count": 5,
      "outputs": [
        {
          "output_type": "execute_result",
          "data": {
            "text/plain": [
              "array([[0, 1, 0, 1, 0, 1],\n",
              "       [1, 0, 1, 1, 1, 0],\n",
              "       [0, 1, 0, 1, 0, 0],\n",
              "       [1, 1, 1, 0, 0, 1],\n",
              "       [0, 1, 0, 0, 0, 1],\n",
              "       [1, 0, 0, 1, 1, 0]])"
            ]
          },
          "metadata": {},
          "execution_count": 5
        }
      ]
    },
    {
      "cell_type": "code",
      "source": [
        "num_nodes"
      ],
      "metadata": {
        "colab": {
          "base_uri": "https://localhost:8080/"
        },
        "id": "kVqXfK3g51yf",
        "outputId": "8784961a-9bf3-4c01-a795-e930014cee4e"
      },
      "execution_count": 6,
      "outputs": [
        {
          "output_type": "execute_result",
          "data": {
            "text/plain": [
              "6"
            ]
          },
          "metadata": {},
          "execution_count": 6
        }
      ]
    },
    {
      "cell_type": "code",
      "source": [
        "# create random features for each node having 3 dimensions\n",
        "x = np.round(np.random.randn(num_nodes, 3), 2)\n",
        "print(f\"Feature Matrix shape {x.shape}\")\n",
        "print(x)"
      ],
      "metadata": {
        "colab": {
          "base_uri": "https://localhost:8080/"
        },
        "id": "VPf1zGxa6Tuf",
        "outputId": "507a5afd-4963-4570-ddac-c2b1c3d39c80"
      },
      "execution_count": 7,
      "outputs": [
        {
          "output_type": "stream",
          "name": "stdout",
          "text": [
            "Feature Matrix shape (6, 3)\n",
            "[[-0.73 -0.41  0.04]\n",
            " [ 1.19  1.54  1.18]\n",
            " [ 1.97 -0.65  1.46]\n",
            " [-0.66 -0.11  1.5 ]\n",
            " [-0.08  0.35  0.53]\n",
            " [-1.83 -0.18  1.42]]\n"
          ]
        }
      ]
    },
    {
      "cell_type": "code",
      "source": [
        "x[1]"
      ],
      "metadata": {
        "colab": {
          "base_uri": "https://localhost:8080/"
        },
        "id": "nlG103z-yHPD",
        "outputId": "6cb2f5a6-a7ff-4eb9-f037-656a5759b48b"
      },
      "execution_count": 8,
      "outputs": [
        {
          "output_type": "execute_result",
          "data": {
            "text/plain": [
              "array([1.19, 1.54, 1.18])"
            ]
          },
          "metadata": {},
          "execution_count": 8
        }
      ]
    },
    {
      "cell_type": "code",
      "source": [
        "adj @ x"
      ],
      "metadata": {
        "id": "ucv7a2W-BOWp",
        "colab": {
          "base_uri": "https://localhost:8080/"
        },
        "outputId": "9b81bba9-6162-4674-a341-c547939de1f4"
      },
      "execution_count": 9,
      "outputs": [
        {
          "output_type": "execute_result",
          "data": {
            "text/plain": [
              "array([[-1.3 ,  1.25,  4.1 ],\n",
              "       [ 0.5 , -0.82,  3.53],\n",
              "       [ 0.53,  1.43,  2.68],\n",
              "       [ 0.6 ,  0.3 ,  4.1 ],\n",
              "       [-0.64,  1.36,  2.6 ],\n",
              "       [-1.47, -0.17,  2.07]])"
            ]
          },
          "metadata": {},
          "execution_count": 9
        }
      ]
    },
    {
      "cell_type": "code",
      "source": [
        "# Message Passing\n",
        "# This cell does similar to the above cell\n",
        "for i in range(num_nodes):\n",
        "  res = 0.\n",
        "  print(f\"Node {i} is connected to\", end=' ')\n",
        "  for n in G[i].keys():\n",
        "    res += x[n]\n",
        "    print(f\"Node {n} {x[n]},\", end=' ')\n",
        "\n",
        "  print()\n",
        "  print(f\"Sum of connected neighbours {res}\")\n",
        "  print()"
      ],
      "metadata": {
        "colab": {
          "base_uri": "https://localhost:8080/"
        },
        "id": "45Jwn8nisW7v",
        "outputId": "efb28602-09ab-4342-e0d9-735c41f4d14f"
      },
      "execution_count": 10,
      "outputs": [
        {
          "output_type": "stream",
          "name": "stdout",
          "text": [
            "Node 0 is connected to Node 1 [1.19 1.54 1.18], Node 3 [-0.66 -0.11  1.5 ], Node 5 [-1.83 -0.18  1.42], \n",
            "Sum of connected neighbours [-1.3   1.25  4.1 ]\n",
            "\n",
            "Node 1 is connected to Node 0 [-0.73 -0.41  0.04], Node 2 [ 1.97 -0.65  1.46], Node 3 [-0.66 -0.11  1.5 ], Node 4 [-0.08  0.35  0.53], \n",
            "Sum of connected neighbours [ 0.5  -0.82  3.53]\n",
            "\n",
            "Node 2 is connected to Node 1 [1.19 1.54 1.18], Node 3 [-0.66 -0.11  1.5 ], \n",
            "Sum of connected neighbours [0.53 1.43 2.68]\n",
            "\n",
            "Node 3 is connected to Node 0 [-0.73 -0.41  0.04], Node 1 [1.19 1.54 1.18], Node 2 [ 1.97 -0.65  1.46], Node 5 [-1.83 -0.18  1.42], \n",
            "Sum of connected neighbours [0.6 0.3 4.1]\n",
            "\n",
            "Node 4 is connected to Node 1 [1.19 1.54 1.18], Node 5 [-1.83 -0.18  1.42], \n",
            "Sum of connected neighbours [-0.64  1.36  2.6 ]\n",
            "\n",
            "Node 5 is connected to Node 0 [-0.73 -0.41  0.04], Node 3 [-0.66 -0.11  1.5 ], Node 4 [-0.08  0.35  0.53], \n",
            "Sum of connected neighbours [-1.47 -0.17  2.07]\n",
            "\n"
          ]
        }
      ]
    },
    {
      "cell_type": "code",
      "source": [
        "G[1].keys()"
      ],
      "metadata": {
        "colab": {
          "base_uri": "https://localhost:8080/"
        },
        "id": "GHIBlgAAsaVP",
        "outputId": "dbef69c1-7014-43d0-9af4-ddd3cfd0238f"
      },
      "execution_count": 11,
      "outputs": [
        {
          "output_type": "execute_result",
          "data": {
            "text/plain": [
              "KeysView(AtlasView({0: {'weight': 1}, 2: {'weight': 1}, 3: {'weight': 1}, 4: {'weight': 1}}))"
            ]
          },
          "metadata": {},
          "execution_count": 11
        }
      ]
    },
    {
      "cell_type": "code",
      "source": [
        "adj_loop = adj + np.eye(adj.shape[0]) #Just connecting node with itself\n",
        "print(adj_loop)\n",
        "\n",
        "# plotting\n",
        "G_loop = nx.from_numpy_array(adj_loop)\n",
        "pos = nx.circular_layout(G_loop)\n",
        "plt.figure(figsize=(3, 3))\n",
        "nx.draw(G_loop, pos, with_labels=True, node_size=300, font_size=15, font_color='black')\n",
        "plt.title(\"Graph with self loop\")\n",
        "plt.show()"
      ],
      "metadata": {
        "id": "BSRQYuLRszch",
        "colab": {
          "base_uri": "https://localhost:8080/",
          "height": 463
        },
        "outputId": "e839b481-91a1-4b93-e562-2e85ef61f0c6"
      },
      "execution_count": 12,
      "outputs": [
        {
          "output_type": "stream",
          "name": "stdout",
          "text": [
            "[[1. 1. 0. 1. 0. 1.]\n",
            " [1. 1. 1. 1. 1. 0.]\n",
            " [0. 1. 1. 1. 0. 0.]\n",
            " [1. 1. 1. 1. 0. 1.]\n",
            " [0. 1. 0. 0. 1. 1.]\n",
            " [1. 0. 0. 1. 1. 1.]]\n"
          ]
        },
        {
          "output_type": "display_data",
          "data": {
            "text/plain": [
              "<Figure size 300x300 with 1 Axes>"
            ],
            "image/png": "[encoded data removed]"
          },
          "metadata": {}
        }
      ]
    },
    {
      "cell_type": "code",
      "source": [
        "adj_loop @ x"
      ],
      "metadata": {
        "colab": {
          "base_uri": "https://localhost:8080/"
        },
        "id": "rBseOA76322V",
        "outputId": "a2f30e77-9c6b-48ea-c4e4-b63ceb98aeac"
      },
      "execution_count": 13,
      "outputs": [
        {
          "output_type": "execute_result",
          "data": {
            "text/plain": [
              "array([[-2.03,  0.84,  4.14],\n",
              "       [ 1.69,  0.72,  4.71],\n",
              "       [ 2.5 ,  0.78,  4.14],\n",
              "       [-0.06,  0.19,  5.6 ],\n",
              "       [-0.72,  1.71,  3.13],\n",
              "       [-3.3 , -0.35,  3.49]])"
            ]
          },
          "metadata": {},
          "execution_count": 13
        }
      ]
    },
    {
      "cell_type": "code",
      "source": [
        "print(\"A tildde X = \")\n",
        "print()\n",
        "\n",
        "for i in range(num_nodes):\n",
        "  res = 0.\n",
        "  print(f\"Node {i} is connected to\", end=' ')\n",
        "  for n in G_loop[i].keys():\n",
        "    res += x[n]\n",
        "    print(f\"Node {n} {x[n]},\", end=' ')\n",
        "\n",
        "  print()\n",
        "  print(f\"Sum of connected neighbours {res}\")\n",
        "  print()"
      ],
      "metadata": {
        "colab": {
          "base_uri": "https://localhost:8080/"
        },
        "id": "CZ4bXr9I3l-Y",
        "outputId": "eed38979-5829-484e-f635-08ba3d13dab7"
      },
      "execution_count": 14,
      "outputs": [
        {
          "output_type": "stream",
          "name": "stdout",
          "text": [
            "A tildde X = \n",
            "\n",
            "Node 0 is connected to Node 0 [-0.73 -0.41  0.04], Node 1 [1.19 1.54 1.18], Node 3 [-0.66 -0.11  1.5 ], Node 5 [-1.83 -0.18  1.42], \n",
            "Sum of connected neighbours [-2.03  0.84  4.14]\n",
            "\n",
            "Node 1 is connected to Node 0 [-0.73 -0.41  0.04], Node 1 [1.19 1.54 1.18], Node 2 [ 1.97 -0.65  1.46], Node 3 [-0.66 -0.11  1.5 ], Node 4 [-0.08  0.35  0.53], \n",
            "Sum of connected neighbours [1.69 0.72 4.71]\n",
            "\n",
            "Node 2 is connected to Node 1 [1.19 1.54 1.18], Node 2 [ 1.97 -0.65  1.46], Node 3 [-0.66 -0.11  1.5 ], \n",
            "Sum of connected neighbours [2.5  0.78 4.14]\n",
            "\n",
            "Node 3 is connected to Node 0 [-0.73 -0.41  0.04], Node 1 [1.19 1.54 1.18], Node 2 [ 1.97 -0.65  1.46], Node 3 [-0.66 -0.11  1.5 ], Node 5 [-1.83 -0.18  1.42], \n",
            "Sum of connected neighbours [-0.06  0.19  5.6 ]\n",
            "\n",
            "Node 4 is connected to Node 1 [1.19 1.54 1.18], Node 4 [-0.08  0.35  0.53], Node 5 [-1.83 -0.18  1.42], \n",
            "Sum of connected neighbours [-0.72  1.71  3.13]\n",
            "\n",
            "Node 5 is connected to Node 0 [-0.73 -0.41  0.04], Node 3 [-0.66 -0.11  1.5 ], Node 4 [-0.08  0.35  0.53], Node 5 [-1.83 -0.18  1.42], \n",
            "Sum of connected neighbours [-3.3  -0.35  3.49]\n",
            "\n"
          ]
        }
      ]
    },
    {
      "cell_type": "code",
      "source": [
        "adj_loop # 'A' --> In paper"
      ],
      "metadata": {
        "colab": {
          "base_uri": "https://localhost:8080/"
        },
        "id": "Fr-BJ6f8QZK8",
        "outputId": "41e48c06-c889-4724-9c5f-280ef80d31e8"
      },
      "execution_count": 15,
      "outputs": [
        {
          "output_type": "execute_result",
          "data": {
            "text/plain": [
              "array([[1., 1., 0., 1., 0., 1.],\n",
              "       [1., 1., 1., 1., 1., 0.],\n",
              "       [0., 1., 1., 1., 0., 0.],\n",
              "       [1., 1., 1., 1., 0., 1.],\n",
              "       [0., 1., 0., 0., 1., 1.],\n",
              "       [1., 0., 0., 1., 1., 1.]])"
            ]
          },
          "metadata": {},
          "execution_count": 15
        }
      ]
    },
    {
      "cell_type": "code",
      "source": [
        "# Normalization --> simple one\n",
        "D = np.sum(adj_loop, axis=1)\n",
        "print(D)\n",
        "print()\n",
        "norm = np.diag(D ** -1) @ adj_loop\n",
        "norm"
      ],
      "metadata": {
        "id": "0RhROXqi36Lv",
        "colab": {
          "base_uri": "https://localhost:8080/"
        },
        "outputId": "a91c9046-bbf0-4f7f-8bb1-af85b8924eef"
      },
      "execution_count": 16,
      "outputs": [
        {
          "output_type": "stream",
          "name": "stdout",
          "text": [
            "[4. 5. 3. 5. 3. 4.]\n",
            "\n"
          ]
        },
        {
          "output_type": "execute_result",
          "data": {
            "text/plain": [
              "array([[0.25      , 0.25      , 0.        , 0.25      , 0.        ,\n",
              "        0.25      ],\n",
              "       [0.2       , 0.2       , 0.2       , 0.2       , 0.2       ,\n",
              "        0.        ],\n",
              "       [0.        , 0.33333333, 0.33333333, 0.33333333, 0.        ,\n",
              "        0.        ],\n",
              "       [0.2       , 0.2       , 0.2       , 0.2       , 0.        ,\n",
              "        0.2       ],\n",
              "       [0.        , 0.33333333, 0.        , 0.        , 0.33333333,\n",
              "        0.33333333],\n",
              "       [0.25      , 0.        , 0.        , 0.25      , 0.25      ,\n",
              "        0.25      ]])"
            ]
          },
          "metadata": {},
          "execution_count": 16
        }
      ]
    },
    {
      "cell_type": "code",
      "source": [
        "D = np.sum(adj_loop, axis=1)\n",
        "print(D)\n",
        "print()\n",
        "norm = np.diag(1/D) @ adj_loop\n",
        "norm"
      ],
      "metadata": {
        "colab": {
          "base_uri": "https://localhost:8080/"
        },
        "id": "kg8fpxc8QJuP",
        "outputId": "73960038-3c2c-4653-b2ff-877e6d7a65fc"
      },
      "execution_count": 17,
      "outputs": [
        {
          "output_type": "stream",
          "name": "stdout",
          "text": [
            "[4. 5. 3. 5. 3. 4.]\n",
            "\n"
          ]
        },
        {
          "output_type": "execute_result",
          "data": {
            "text/plain": [
              "array([[0.25      , 0.25      , 0.        , 0.25      , 0.        ,\n",
              "        0.25      ],\n",
              "       [0.2       , 0.2       , 0.2       , 0.2       , 0.2       ,\n",
              "        0.        ],\n",
              "       [0.        , 0.33333333, 0.33333333, 0.33333333, 0.        ,\n",
              "        0.        ],\n",
              "       [0.2       , 0.2       , 0.2       , 0.2       , 0.        ,\n",
              "        0.2       ],\n",
              "       [0.        , 0.33333333, 0.        , 0.        , 0.33333333,\n",
              "        0.33333333],\n",
              "       [0.25      , 0.        , 0.        , 0.25      , 0.25      ,\n",
              "        0.25      ]])"
            ]
          },
          "metadata": {},
          "execution_count": 17
        }
      ]
    },
    {
      "cell_type": "code",
      "source": [
        "D"
      ],
      "metadata": {
        "colab": {
          "base_uri": "https://localhost:8080/"
        },
        "id": "-gmYvyznRGRv",
        "outputId": "0ffcb7ec-4788-4f25-c0d8-fb6c9028df8b"
      },
      "execution_count": 18,
      "outputs": [
        {
          "output_type": "execute_result",
          "data": {
            "text/plain": [
              "array([4., 5., 3., 5., 3., 4.])"
            ]
          },
          "metadata": {},
          "execution_count": 18
        }
      ]
    },
    {
      "cell_type": "code",
      "source": [
        "np.diag(1/D)"
      ],
      "metadata": {
        "colab": {
          "base_uri": "https://localhost:8080/"
        },
        "id": "PfZlXrl2QeHX",
        "outputId": "199fb2e6-85b5-413f-aa6b-cff61aa7f84d"
      },
      "execution_count": 19,
      "outputs": [
        {
          "output_type": "execute_result",
          "data": {
            "text/plain": [
              "array([[0.25      , 0.        , 0.        , 0.        , 0.        ,\n",
              "        0.        ],\n",
              "       [0.        , 0.2       , 0.        , 0.        , 0.        ,\n",
              "        0.        ],\n",
              "       [0.        , 0.        , 0.33333333, 0.        , 0.        ,\n",
              "        0.        ],\n",
              "       [0.        , 0.        , 0.        , 0.2       , 0.        ,\n",
              "        0.        ],\n",
              "       [0.        , 0.        , 0.        , 0.        , 0.33333333,\n",
              "        0.        ],\n",
              "       [0.        , 0.        , 0.        , 0.        , 0.        ,\n",
              "        0.25      ]])"
            ]
          },
          "metadata": {},
          "execution_count": 19
        }
      ]
    },
    {
      "cell_type": "code",
      "source": [
        "# PLOTTING FOR VISUALIZATION\n",
        "# helper code to draw the graph showing node importance\n",
        "\n",
        "# pick the node\n",
        "node = 1\n",
        "\n",
        "# get the normalized values as color\n",
        "color_map = norm[node]\n",
        "\n",
        "# set color to the edges\n",
        "color_edges = []\n",
        "for idx, i in enumerate(norm[node]):\n",
        "    if i > 0.0:\n",
        "        G_loop.edges[(node, idx)]['weight'] = i * 10\n",
        "for k in G_loop.edges.keys():\n",
        "    color_edges.append(G_loop.edges[k]['weight'])\n",
        "\n",
        "# draw the graph\n",
        "pos = nx.circular_layout(G_loop)\n",
        "vmin = min(color_map)\n",
        "vmax = max(color_map)\n",
        "plt.figure(figsize=(6, 4))\n",
        "nx.draw(G_loop, pos, node_color=color_map, width=2,\n",
        "           with_labels=True, vmin=vmin, vmax=vmax, edge_color=color_edges)\n",
        "sm = plt.cm.ScalarMappable(norm=plt.Normalize(vmin = vmin, vmax=vmax))\n",
        "sm._A = []\n",
        "plt.colorbar(sm, ax=plt.gca())\n",
        "plt.title(f\"Graph showing importance of nodes wrt node {node}\")\n",
        "plt.show()"
      ],
      "metadata": {
        "colab": {
          "base_uri": "https://localhost:8080/",
          "height": 467
        },
        "id": "w9s-vEu1RFVm",
        "outputId": "2499e7c5-3289-49bc-e529-6825c4601773"
      },
      "execution_count": 20,
      "outputs": [
        {
          "output_type": "display_data",
          "data": {
            "text/plain": [
              "<Figure size 600x400 with 2 Axes>"
            ],
            "image/png": "[encoded data removed]"
          },
          "metadata": {}
        }
      ]
    },
    {
      "cell_type": "code",
      "source": [
        "# Better normalization: Acc to the paper --> Calling it renormalization\n",
        "renorm = np.diag(D ** -0.5) @ adj_loop @ np.diag(D ** -0.5)\n",
        "print(\"Symmetric Normalization using renormalization trick acc to the paper:\")\n",
        "print(renorm)\n",
        "print()\n",
        "print(\"Mean Normalization, ie the prev(sipler) one:\")\n",
        "print(norm)"
      ],
      "metadata": {
        "colab": {
          "base_uri": "https://localhost:8080/"
        },
        "id": "ILdpbyJRSqFl",
        "outputId": "5ece72db-c95e-4156-e71c-56b770cb8e5e"
      },
      "execution_count": 21,
      "outputs": [
        {
          "output_type": "stream",
          "name": "stdout",
          "text": [
            "Symmetric Normalization using renormalization trick acc to the paper:\n",
            "[[0.25       0.2236068  0.         0.2236068  0.         0.25      ]\n",
            " [0.2236068  0.2        0.25819889 0.2        0.25819889 0.        ]\n",
            " [0.         0.25819889 0.33333333 0.25819889 0.         0.        ]\n",
            " [0.2236068  0.2        0.25819889 0.2        0.         0.2236068 ]\n",
            " [0.         0.25819889 0.         0.         0.33333333 0.28867513]\n",
            " [0.25       0.         0.         0.2236068  0.28867513 0.25      ]]\n",
            "\n",
            "Mean Normalization, ie the prev(sipler) one:\n",
            "[[0.25       0.25       0.         0.25       0.         0.25      ]\n",
            " [0.2        0.2        0.2        0.2        0.2        0.        ]\n",
            " [0.         0.33333333 0.33333333 0.33333333 0.         0.        ]\n",
            " [0.2        0.2        0.2        0.2        0.         0.2       ]\n",
            " [0.         0.33333333 0.         0.         0.33333333 0.33333333]\n",
            " [0.25       0.         0.         0.25       0.25       0.25      ]]\n"
          ]
        }
      ]
    },
    {
      "cell_type": "code",
      "source": [
        "node = 1\n",
        "print(f\"Graphs showing importance of node wrt node {node}\")\n",
        "plt.figure(figsize=(10, 4))\n",
        "plt.subplot(1, 2, 1)\n",
        "color_map = norm[node]\n",
        "color_edges = []\n",
        "for idx, i in enumerate(norm[node]):\n",
        "    if i > 0.0:\n",
        "        G_loop.edges[(node, idx)]['weight'] = i * 10\n",
        "for k in G_loop.edges.keys():\n",
        "    color_edges.append(G_loop.edges[k]['weight'])\n",
        "pos = nx.circular_layout(G_loop)\n",
        "vmin = min(color_map)\n",
        "vmax = max(color_map)\n",
        "nx.draw(G_loop, pos, node_color=color_map, width=2,\n",
        "           with_labels=True, vmin=vmin, vmax=vmax, edge_color=color_edges)\n",
        "sm = plt.cm.ScalarMappable(norm=plt.Normalize(vmin = vmin, vmax=vmax))\n",
        "sm._A = []\n",
        "plt.colorbar(sm, ax=plt.gca())\n",
        "plt.title(\"Mean Normalization\")\n",
        "\n",
        "plt.subplot(1, 2, 2)\n",
        "color_map = renorm[node]\n",
        "color_edges = []\n",
        "for idx, i in enumerate(renorm[node]):\n",
        "    if i > 0.0:\n",
        "        G_loop.edges[(node, idx)]['weight'] = i * 10\n",
        "for k in G_loop.edges.keys():\n",
        "    color_edges.append(G_loop.edges[k]['weight'])\n",
        "pos = nx.circular_layout(G_loop)\n",
        "vmin = min(color_map)\n",
        "vmax = max(color_map)\n",
        "nx.draw(G_loop, pos, node_color=color_map, width=2,\n",
        "           with_labels=True, vmin=vmin, vmax=vmax, edge_color=color_edges)\n",
        "sm = plt.cm.ScalarMappable(norm=plt.Normalize(vmin = vmin, vmax=vmax))\n",
        "sm._A = []\n",
        "plt.colorbar(sm, ax=plt.gca())\n",
        "plt.title(\"Renormalization Trick\")\n",
        "plt.show()"
      ],
      "metadata": {
        "id": "qOIEZSikUoez",
        "colab": {
          "base_uri": "https://localhost:8080/",
          "height": 392
        },
        "outputId": "ebfa7bc6-659e-4e7f-a7ce-e5ce319ff83d"
      },
      "execution_count": 22,
      "outputs": [
        {
          "output_type": "stream",
          "name": "stdout",
          "text": [
            "Graphs showing importance of node wrt node 1\n"
          ]
        },
        {
          "output_type": "display_data",
          "data": {
            "text/plain": [
              "<Figure size 1000x400 with 4 Axes>"
            ],
            "image/png": "[encoded data removed]"
          },
          "metadata": {}
        }
      ]
    },
    {
      "cell_type": "code",
      "source": [
        "# A * X\n",
        "print(\"Message passing using unnormalized adjacency matrix\")\n",
        "print(adj @ x)\n",
        "print()\n",
        "\n",
        "# D^(-1/2) * A * D^(-1/2) * X\n",
        "print(\"Message passing using normalized adjacency matrix\")\n",
        "print(renorm @ x)"
      ],
      "metadata": {
        "colab": {
          "base_uri": "https://localhost:8080/"
        },
        "id": "CIYEANsSQWSS",
        "outputId": "39d577eb-37dc-4517-f584-669e4dc148a2"
      },
      "execution_count": 23,
      "outputs": [
        {
          "output_type": "stream",
          "name": "stdout",
          "text": [
            "Message passing using unnormalized adjacency matrix\n",
            "[[-1.3   1.25  4.1 ]\n",
            " [ 0.5  -0.82  3.53]\n",
            " [ 0.53  1.43  2.68]\n",
            " [ 0.6   0.3   4.1 ]\n",
            " [-0.64  1.36  2.6 ]\n",
            " [-1.47 -0.17  2.07]]\n",
            "\n",
            "Message passing using normalized adjacency matrix\n",
            "[[-0.5214884   0.17225772  0.96426622]\n",
            " [ 0.43076294  0.11686155  1.05876006]\n",
            " [ 0.79351208  0.15255775  1.17863969]\n",
            " [ 0.04221841 -0.01375729  1.2394363 ]\n",
            " [-0.24768548  0.46233143  0.89126005]\n",
            " [-0.8106745  -0.07106045  0.85340802]]\n"
          ]
        }
      ]
    },
    {
      "cell_type": "markdown",
      "source": [
        "---\n",
        "## **GCN Layer:**"
      ],
      "metadata": {
        "id": "Ga3TEDulS64U"
      }
    },
    {
      "cell_type": "code",
      "source": [
        "# Here we are defining 6 label for 6 nodes, to train our data\n",
        "\n",
        "np.random.seed(2) # setting up the seed\n",
        "print(\"Adjacency matrix shape :\", adj_loop.shape)\n",
        "print(\"Feature matrix shape: \", x.shape)\n",
        "\n",
        "# create random labels for node classification task\n",
        "y = np.random.randint(low=0, high=2, size=x.shape[0])\n",
        "print(\"Labels\", y)\n",
        "print(\"Labels shape\", y.shape)"
      ],
      "metadata": {
        "colab": {
          "base_uri": "https://localhost:8080/"
        },
        "id": "TBgKRk_KRu8X",
        "outputId": "0281e670-4a35-441d-b5ba-0091c6ffb537"
      },
      "execution_count": 24,
      "outputs": [
        {
          "output_type": "stream",
          "name": "stdout",
          "text": [
            "Adjacency matrix shape : (6, 6)\n",
            "Feature matrix shape:  (6, 3)\n",
            "Labels [0 1 1 0 0 1]\n",
            "Labels shape (6,)\n"
          ]
        }
      ]
    },
    {
      "cell_type": "code",
      "source": [
        "# Converting all data to torch tensor\n",
        "x = torch.tensor(x, dtype=torch.float)\n",
        "y = torch.tensor(y, dtype=torch.long)\n",
        "renorm = torch.tensor(renorm, dtype=torch.float32)"
      ],
      "metadata": {
        "id": "iLA5x4lBUVLL"
      },
      "execution_count": 25,
      "outputs": []
    },
    {
      "cell_type": "code",
      "source": [
        "# Layer 1\n",
        "fixed_generator = torch.Generator().manual_seed(4) # To keep the results reproducable\n",
        "output_dim = 2 # we are choosing it\n",
        "input_dim = x.shape[1] # x --> features. In this case x.shape = (6, 3)\n",
        "# Ouput of Layer 1: (6, 2)\n",
        "\n",
        "# weights\n",
        "w1 = torch.randn(input_dim, output_dim, generator=fixed_generator) # D x W1\n",
        "b1 = torch.randn(output_dim, generator=fixed_generator) # W1 x 1\n",
        "\n",
        "# Some modifications of w and b acc to the paper\n",
        "stdv = 1. / math.sqrt(w1.shape[1])\n",
        "w1.uniform_(-stdv, stdv, generator=fixed_generator)\n",
        "b1.uniform_(-stdv, stdv, generator=fixed_generator)\n",
        "\n",
        "print(w1)\n",
        "print(w1.shape)\n",
        "print()\n",
        "print(b1)\n",
        "print(b1.shape)"
      ],
      "metadata": {
        "colab": {
          "base_uri": "https://localhost:8080/"
        },
        "id": "xSiXDKTKUgDM",
        "outputId": "752f3765-fe4e-42e8-acba-4876a7c4a6c6"
      },
      "execution_count": 26,
      "outputs": [
        {
          "output_type": "stream",
          "name": "stdout",
          "text": [
            "tensor([[ 0.3726, -0.4049],\n",
            "        [-0.2735, -0.6526],\n",
            "        [ 0.0312, -0.2535]])\n",
            "torch.Size([3, 2])\n",
            "\n",
            "tensor([0.1519, 0.0329])\n",
            "torch.Size([2])\n"
          ]
        }
      ]
    },
    {
      "cell_type": "code",
      "source": [
        "message_agg = renorm @ x\n",
        "z = message_agg @ w1 + b1\n",
        "z = F.relu(z)\n",
        "print(\"O/P of first layer: \")\n",
        "print(z)\n",
        "print(z.shape)"
      ],
      "metadata": {
        "colab": {
          "base_uri": "https://localhost:8080/"
        },
        "id": "vl993-emXmAa",
        "outputId": "ab42473a-a586-40f9-df64-52879cd840ef"
      },
      "execution_count": 27,
      "outputs": [
        {
          "output_type": "stream",
          "name": "stdout",
          "text": [
            "O/P of first layer: \n",
            "tensor([[0.0000, 0.0000],\n",
            "        [0.3134, 0.0000],\n",
            "        [0.4425, 0.0000],\n",
            "        [0.2100, 0.0000],\n",
            "        [0.0000, 0.0000],\n",
            "        [0.0000, 0.1912]])\n",
            "torch.Size([6, 2])\n"
          ]
        }
      ]
    },
    {
      "cell_type": "code",
      "source": [
        "# Layer 2\n",
        "fixed_generator = torch.Generator().manual_seed(5) # To keep the results reproducable\n",
        "output_dim = 2 # we are choosing it\n",
        "input_dim = z.shape[1] # outputs of prev layer\n",
        "\n",
        "# weights\n",
        "w2 = torch.randn(input_dim, output_dim, generator=fixed_generator) # D x W1\n",
        "b2 = torch.randn(output_dim, generator=fixed_generator) # W1 x 1\n",
        "\n",
        "# Some modifications of w and b acc to the paper\n",
        "stdv = 1. / math.sqrt(w2.shape[1])\n",
        "w2.uniform_(-stdv, stdv, generator=fixed_generator)\n",
        "b2.uniform_(-stdv, stdv, generator=fixed_generator)\n",
        "\n",
        "print(w2)\n",
        "print(w2.shape)\n",
        "print()\n",
        "print(b2)\n",
        "print(b2.shape)"
      ],
      "metadata": {
        "colab": {
          "base_uri": "https://localhost:8080/"
        },
        "id": "KSDjLvchIkeD",
        "outputId": "12ab44f0-ec8d-4b7d-9144-a0180831c370"
      },
      "execution_count": 29,
      "outputs": [
        {
          "output_type": "stream",
          "name": "stdout",
          "text": [
            "tensor([[-0.6047,  0.2253],\n",
            "        [ 0.3041,  0.1122]])\n",
            "torch.Size([2, 2])\n",
            "\n",
            "tensor([0.6801, 0.2124])\n",
            "torch.Size([2])\n"
          ]
        }
      ]
    },
    {
      "cell_type": "code",
      "source": [
        "# Layer 2 forward pass\n",
        "message_agg_2 = renorm @ z\n",
        "out = message_agg_2 @ w2 + b2\n",
        "\n",
        "print(\"O/P of second layer: \")\n",
        "print(out)\n",
        "print(out.shape)"
      ],
      "metadata": {
        "colab": {
          "base_uri": "https://localhost:8080/"
        },
        "id": "3o77NNl4IzkQ",
        "outputId": "709f72ed-61da-4900-f44c-f8c197336b42"
      },
      "execution_count": 30,
      "outputs": [
        {
          "output_type": "stream",
          "name": "stdout",
          "text": [
            "O/P of second layer: \n",
            "tensor([[0.6239, 0.2441],\n",
            "        [0.5477, 0.2617],\n",
            "        [0.5092, 0.2760],\n",
            "        [0.5607, 0.2665],\n",
            "        [0.6480, 0.2368],\n",
            "        [0.6663, 0.2283]])\n",
            "torch.Size([6, 2])\n"
          ]
        }
      ]
    },
    {
      "cell_type": "code",
      "source": [
        "# Applying softmax\n",
        "loss = F.cross_entropy(out, y)\n",
        "print(loss)"
      ],
      "metadata": {
        "colab": {
          "base_uri": "https://localhost:8080/"
        },
        "id": "U5FDHA80Ize4",
        "outputId": "7f64f9c9-be4a-49b7-c83e-53ec5c063828"
      },
      "execution_count": 33,
      "outputs": [
        {
          "output_type": "stream",
          "name": "stdout",
          "text": [
            "tensor(0.6976)\n"
          ]
        }
      ]
    },
    {
      "cell_type": "code",
      "source": [
        "class GCNLayer(nn.Module):\n",
        "  def __init__(self, in_feat, out_feat):\n",
        "    super().__init__()\n",
        "    self.in_feat = in_feat\n",
        "    self.out_feat = out_feat\n",
        "\n",
        "    self.projection = nn.Linear(in_feat, out_feat)\n",
        "\n",
        "  def forward(self, x, A_norm):\n",
        "    x = torch.mm(A_norm, x)\n",
        "    x = self.projection(x)\n",
        "    return x\n",
        "\n",
        "  def __repr__(self):\n",
        "    return f\"GCNLayer ({self.in_feat} -> {self.out_feat})\"\n",
        "\n",
        "class GCNModel(nn.Module):\n",
        "  def __init__(self, in_feat, num_hidden, nclass, dropout=None):\n",
        "    super().__init__()\n",
        "\n",
        "    # layer initialization\n",
        "    self.gcn_l1 = GCNLayer(in_feat, num_hidden)\n",
        "    self.gcn_l2 = GCNLayer(num_hidden, nclass)\n",
        "\n",
        "    self.dropout = dropout\n",
        "\n",
        "  def forward(self, x, A_norm):\n",
        "    x = self.actn(self.gcn_l1(x, A_norm))\n",
        "    if self.dropout is not None:\n",
        "      x = F.dropout(x, p=self.dropout, training=self.training)\n",
        "    x = self.gcn_l2(x, A_norm)\n",
        "    return x"
      ],
      "metadata": {
        "id": "pf5k2nYIIzU1"
      },
      "execution_count": null,
      "outputs": []
    },
    {
      "cell_type": "code",
      "source": [],
      "metadata": {
        "id": "GJ12iYlbNuQW"
      },
      "execution_count": null,
      "outputs": []
    },
    {
      "cell_type": "code",
      "source": [],
      "metadata": {
        "id": "-u8vRBaCNuLn"
      },
      "execution_count": null,
      "outputs": []
    },
    {
      "cell_type": "code",
      "source": [],
      "metadata": {
        "id": "FMBoJ3N0NuJC"
      },
      "execution_count": null,
      "outputs": []
    },
    {
      "cell_type": "code",
      "source": [],
      "metadata": {
        "id": "gY_P6Lc0NuEi"
      },
      "execution_count": null,
      "outputs": []
    },
    {
      "cell_type": "code",
      "source": [],
      "metadata": {
        "id": "wF7w-udPNuB2"
      },
      "execution_count": null,
      "outputs": []
    },
    {
      "cell_type": "markdown",
      "source": [
        "----\n",
        "### **My exps for the sake of science :D**"
      ],
      "metadata": {
        "id": "T3d9onL3JTZo"
      }
    },
    {
      "cell_type": "code",
      "source": [
        "# My exp: Just checking how can (6, 2) be added with (2,) bias\n",
        "\n",
        "import torch\n",
        "\n",
        "# Suppose message_agg @ w1 is a tensor of shape (6, 2)\n",
        "message_agg_w1 = torch.tensor([[1.0, 2.0], [3.0, 4.0], [5.0, 6.0], [7.0, 8.0], [9.0, 10.0], [11.0, 12.0]])\n",
        "\n",
        "# Suppose b1 is a tensor of shape (2,)\n",
        "b1 = torch.tensor([0.5, 1.5])\n",
        "\n",
        "# Adding them together\n",
        "result = message_agg_w1 + b1\n",
        "print(result)\n"
      ],
      "metadata": {
        "colab": {
          "base_uri": "https://localhost:8080/"
        },
        "id": "AnTtr3cTZZf9",
        "outputId": "613ddc41-0145-4437-fcf6-e841d08876b7"
      },
      "execution_count": 28,
      "outputs": [
        {
          "output_type": "stream",
          "name": "stdout",
          "text": [
            "tensor([[ 1.5000,  3.5000],\n",
            "        [ 3.5000,  5.5000],\n",
            "        [ 5.5000,  7.5000],\n",
            "        [ 7.5000,  9.5000],\n",
            "        [ 9.5000, 11.5000],\n",
            "        [11.5000, 13.5000]])\n"
          ]
        }
      ]
    }
  ]
}